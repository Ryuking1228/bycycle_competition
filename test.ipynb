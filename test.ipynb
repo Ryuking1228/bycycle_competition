{
 "cells": [
  {
   "cell_type": "code",
   "execution_count": 2,
   "metadata": {},
   "outputs": [],
   "source": [
    "#ryuki.oshiro\n",
    "#機械学習で必要なパッケージをインポート\n",
    "import numpy as np\n",
    "import pandas as pd\n",
    "import matplotlib.pyplot as plt\n",
    "from sklearn.model_selection import train_test_split\n",
    "from sklearn.preprocessing import StandardScaler\n",
    "from sklearn.linear_model import LogisticRegression\n",
    "from sklearn.metrics import confusion_matrix\n",
    "from sklearn.metrics import accuracy_score\n",
    "from sklearn.metrics import precision_score\n",
    "from sklearn.metrics import recall_score\n",
    "from sklearn.metrics import f1_score\n",
    "from sklearn.metrics import roc_auc_score\n",
    "import os\n",
    "\n",
    "pd.set_option('display.max_rows', None)"
   ]
  },
  {
   "cell_type": "markdown",
   "metadata": {},
   "source": []
  },
  {
   "cell_type": "code",
   "execution_count": 3,
   "metadata": {},
   "outputs": [],
   "source": [
    "#データの読み込み\n",
    "status_df = pd.read_csv('status.csv')\n",
    "station_df = pd.read_csv('station.csv')\n",
    "trip_df = pd.read_csv('trip.csv')\n",
    "weather_df = pd.read_csv('weather.csv')"
   ]
  },
  {
   "cell_type": "code",
   "execution_count": 6,
   "metadata": {},
   "outputs": [
    {
     "name": "stdout",
     "output_type": "stream",
     "text": [
      "id                      0\n",
      "year                    0\n",
      "month                   0\n",
      "day                     0\n",
      "hour                    0\n",
      "station_id              0\n",
      "bikes_available    416405\n",
      "predict                 0\n",
      "dtype: int64\n",
      "station_id           0\n",
      "lat                  0\n",
      "long                 0\n",
      "dock_count           0\n",
      "city                 0\n",
      "installation_date    0\n",
      "dtype: int64\n",
      "trip_id              0\n",
      "duration             0\n",
      "start_date           0\n",
      "start_station_id     0\n",
      "end_date             0\n",
      "end_station_id       0\n",
      "bike_id              0\n",
      "subscription_type    0\n",
      "dtype: int64\n",
      "date                         0\n",
      "max_temperature              0\n",
      "mean_temperature             0\n",
      "min_temperature              0\n",
      "max_dew_point                0\n",
      "mean_dew_point               0\n",
      "min_dew_point                0\n",
      "max_humidity                 0\n",
      "mean_humidity                0\n",
      "min_humidity                 0\n",
      "max_sea_level_pressure       0\n",
      "mean_sea_level_pressure      0\n",
      "min_sea_level_pressure       0\n",
      "max_visibility               0\n",
      "mean_visibility              0\n",
      "min_visibility               0\n",
      "max_wind_Speed               0\n",
      "mean_wind_speed              0\n",
      "precipitation                0\n",
      "cloud_cover                  0\n",
      "events                     636\n",
      "wind_dir_degrees             0\n",
      "dtype: int64\n"
     ]
    }
   ],
   "source": [
    "\"\"\"\n",
    "それぞれのデータ欠損値を確認\n",
    "\"\"\"\n",
    "\n",
    "#status_df\n",
    "print(status_df.isnull().sum())\n",
    "\n",
    "#station_df\n",
    "print(station_df.isnull().sum())\n",
    "\n",
    "#trip_df\n",
    "print(trip_df.isnull().sum())\n",
    "\n",
    "#weather_df\n",
    "print(weather_df.isnull().sum())"
   ]
  },
  {
   "cell_type": "markdown",
   "metadata": {},
   "source": [
    "eventsで636個の欠損値があるが、これは予報された気象現象の意味"
   ]
  },
  {
   "cell_type": "code",
   "execution_count": 8,
   "metadata": {},
   "outputs": [
    {
     "name": "stdout",
     "output_type": "stream",
     "text": [
      "[nan 'Rain' 'Fog' 'Fog-Rain']\n"
     ]
    }
   ],
   "source": [
    "#eventの中身を確認\n",
    "print(weather_df['events'].unique())"
   ]
  },
  {
   "cell_type": "code",
   "execution_count": 10,
   "metadata": {},
   "outputs": [
    {
     "name": "stdout",
     "output_type": "stream",
     "text": [
      "              id  year  month   day  hour  bikes_available  predict\n",
      "station_id                                                         \n",
      "0           2760  2760   2760  2760  2760                0     2760\n",
      "1           2760  2760   2760  2760  2760                0     2760\n",
      "2           2760  2760   2760  2760  2760                0     2760\n",
      "3           2760  2760   2760  2760  2760                0     2760\n",
      "4           2760  2760   2760  2760  2760                0     2760\n",
      "5           2760  2760   2760  2760  2760                0     2760\n",
      "6           2760  2760   2760  2760  2760                0     2760\n",
      "7           2760  2760   2760  2760  2760                0     2760\n",
      "8           2760  2760   2760  2760  2760                0     2760\n",
      "9           2760  2760   2760  2760  2760                0     2760\n",
      "10          2760  2760   2760  2760  2760                0     2760\n",
      "11          2760  2760   2760  2760  2760                0     2760\n",
      "12          2760  2760   2760  2760  2760                0     2760\n",
      "13          2760  2760   2760  2760  2760                0     2760\n",
      "14          2760  2760   2760  2760  2760                0     2760\n",
      "15          2760  2760   2760  2760  2760                0     2760\n",
      "16          2760  2760   2760  2760  2760                0     2760\n",
      "17          2760  2760   2760  2760  2760                0     2760\n",
      "18          2760  2760   2760  2760  2760                0     2760\n",
      "19          2760  2760   2760  2760  2760                0     2760\n",
      "20          2760  2760   2760  2760  2760                0     2760\n",
      "21          2760  2760   2760  2760  2760                0     2760\n",
      "22          2760  2760   2760  2760  2760                0     2760\n",
      "23          2760  2760   2760  2760  2760                0     2760\n",
      "24          2760  2760   2760  2760  2760                0     2760\n",
      "25          2760  2760   2760  2760  2760                0     2760\n",
      "26          2760  2760   2760  2760  2760                0     2760\n",
      "27          2760  2760   2760  2760  2760                0     2760\n",
      "28          2760  2760   2760  2760  2760                0     2760\n",
      "29          2760  2760   2760  2760  2760                0     2760\n",
      "30          2760  2760   2760  2760  2760                0     2760\n",
      "31          2760  2760   2760  2760  2760                0     2760\n",
      "32          2760  2760   2760  2760  2760                0     2760\n",
      "33          2760  2760   2760  2760  2760                0     2760\n",
      "34          2760  2760   2760  2760  2760                0     2760\n",
      "35          2760  2760   2760  2760  2760                0     2760\n",
      "36          2760  2760   2760  2760  2760                0     2760\n",
      "37          2760  2760   2760  2760  2760                0     2760\n",
      "38          2760  2760   2760  2760  2760                0     2760\n",
      "39          2760  2760   2760  2760  2760                0     2760\n",
      "40          2760  2760   2760  2760  2760                0     2760\n",
      "41          2760  2760   2760  2760  2760                0     2760\n",
      "42          2760  2760   2760  2760  2760                0     2760\n",
      "43          2760  2760   2760  2760  2760                0     2760\n",
      "44          2760  2760   2760  2760  2760                0     2760\n",
      "45          2760  2760   2760  2760  2760                0     2760\n",
      "46          2760  2760   2760  2760  2760                0     2760\n",
      "47          2760  2760   2760  2760  2760                0     2760\n",
      "48          2760  2760   2760  2760  2760                0     2760\n",
      "49          2760  2760   2760  2760  2760                0     2760\n",
      "50          2760  2760   2760  2760  2760                0     2760\n",
      "51          2760  2760   2760  2760  2760                0     2760\n",
      "52          2760  2760   2760  2760  2760                0     2760\n",
      "53          2760  2760   2760  2760  2760                0     2760\n",
      "54          2760  2760   2760  2760  2760                0     2760\n",
      "55          2760  2760   2760  2760  2760                0     2760\n",
      "56          2760  2760   2760  2760  2760                0     2760\n",
      "57          2760  2760   2760  2760  2760                0     2760\n",
      "58          2760  2760   2760  2760  2760                0     2760\n",
      "59          2760  2760   2760  2760  2760                0     2760\n",
      "60          2760  2760   2760  2760  2760                0     2760\n",
      "61          2760  2760   2760  2760  2760                0     2760\n",
      "62          2760  2760   2760  2760  2760                0     2760\n",
      "63          2760  2760   2760  2760  2760                0     2760\n",
      "64          2760  2760   2760  2760  2760                0     2760\n",
      "65          2760  2760   2760  2760  2760                0     2760\n",
      "66          2760  2760   2760  2760  2760                0     2760\n",
      "67          2760  2760   2760  2760  2760                0     2760\n",
      "68          2760  2760   2760  2760  2760                0     2760\n",
      "69          2760  2760   2760  2760  2760                0     2760\n"
     ]
    }
   ],
   "source": [
    "#各stationのpredict = 1の数をカウント\n",
    "print(status_df[status_df['predict'] == 1].groupby('station_id').count())"
   ]
  }
 ],
 "metadata": {
  "kernelspec": {
   "display_name": "ro",
   "language": "python",
   "name": "python3"
  },
  "language_info": {
   "codemirror_mode": {
    "name": "ipython",
    "version": 3
   },
   "file_extension": ".py",
   "mimetype": "text/x-python",
   "name": "python",
   "nbconvert_exporter": "python",
   "pygments_lexer": "ipython3",
   "version": "3.8.5"
  }
 },
 "nbformat": 4,
 "nbformat_minor": 2
}
